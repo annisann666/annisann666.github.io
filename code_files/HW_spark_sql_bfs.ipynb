{
 "cells": [
  {
   "cell_type": "markdown",
   "metadata": {
    "colab_type": "text",
    "id": "L1Y12dPVqHv4"
   },
   "source": [
    "# CIS 545 Homework 2\n",
    "\n",
    "For this assignment, we will focus on introducing you to hierarchical data stored in dataframes, graph data and traversing relationships among data. you will learn to use pandasql (cause Pandas are the our favorite animal and data science tool 🐼) and Spark. You will be using spark locally and not really on a cluster for this homework. The next homework will unleash the full power of Spark by deploying it on a cluster.\n",
    "\n",
    "For the second section of assignment, we will focus on graph data.  Many real-world datasets are, or can be modeled by, graphs (or trees which are special cases of graphs).  Examples include:\n",
    "\n",
    "* Networks (social networks, the Web, the connectome, the Internet, traffic networks, …)\n",
    "* Sets of data in which some of the data is more closely connected than other parts of the data (edges may represent weighted similarity or affinity)\n",
    "* Phylogenetic trees, grammars, etc."
   ]
  },
  {
   "cell_type": "markdown",
   "metadata": {
    "colab_type": "text",
    "id": "zsMMQ1RnqoYw"
   },
   "source": [
    "### Libraries and Setup Jargon!\n",
    "Run the following  cells to setup the notebook. When prompted for a selection, select the number that is associated with java 8"
   ]
  },
  {
   "cell_type": "code",
   "execution_count": 1,
   "metadata": {
    "colab": {
     "base_uri": "https://localhost:8080/",
     "height": 323
    },
    "colab_type": "code",
    "id": "V5Ea650lhvf2",
    "outputId": "6b821fae-8c94-47c3-8384-cf8b36e4eac7"
   },
   "outputs": [
    {
     "name": "stdout",
     "output_type": "stream",
     "text": [
      "Reading package lists... Done\n",
      "Building dependency tree       \n",
      "Reading state information... Done\n",
      "openjdk-8-jdk is already the newest version (8u242-b08-0ubuntu3~18.04).\n",
      "The following package was automatically installed and is no longer required:\n",
      "  libnvidia-common-430\n",
      "Use 'sudo apt autoremove' to remove it.\n",
      "0 upgraded, 0 newly installed, 0 to remove and 106 not upgraded.\n",
      "There are 2 choices for the alternative java (providing /usr/bin/java).\n",
      "\n",
      "  Selection    Path                                            Priority   Status\n",
      "------------------------------------------------------------\n",
      "  0            /usr/lib/jvm/java-11-openjdk-amd64/bin/java      1111      auto mode\n",
      "  1            /usr/lib/jvm/java-11-openjdk-amd64/bin/java      1111      manual mode\n",
      "* 2            /usr/lib/jvm/java-8-openjdk-amd64/jre/bin/java   1081      manual mode\n",
      "\n",
      "Press <enter> to keep the current choice[*], or type selection number: 2\n"
     ]
    }
   ],
   "source": [
    "! sudo apt install openjdk-8-jdk\n",
    "! sudo update-alternatives --config java"
   ]
  },
  {
   "cell_type": "markdown",
   "metadata": {
    "colab_type": "text",
    "id": "YLVCSFBErk_A"
   },
   "source": [
    "VERY IMPORTANT : Enter your **8 digit Penn ID** in the student id field below"
   ]
  },
  {
   "cell_type": "markdown",
   "metadata": {
    "colab_type": "text",
    "id": "EH4yd-ojirOm"
   },
   "source": [
    "# Section 1: Stack Exchange Data"
   ]
  },
  {
   "cell_type": "markdown",
   "metadata": {
    "colab_type": "text",
    "id": "lTKXdSzflNcM"
   },
   "source": [
    "## Exploring the Stack Exchange dataset\n",
    "\n",
    "<img src = \"https://cdn.sstatic.net/Sites/stackoverflow/company/img/logos/se/se-logo.png?v=dd7153fcc7fa\" width= \"600\" align =\"center\"/>\n",
    "\n",
    "To survive as a student at Penn , you've certainly used Stack Exchange or Stack Overflow, as a source for all your technical queries. Stack Exchange looks a lot like a social network, it has the following pieces of information to tie it all together:\n",
    "\n",
    "\n",
    "*   Users: All stack exchange users including admins etc. Sad little Penn students are included here.\n",
    "\n",
    "*   Posts: The questions the users post and any follow ups\n",
    "\n",
    "*   Comments: As the name suggests, these are comments on posts\n",
    "\n",
    "*   Votes: Up/Downvotes \n",
    "\n",
    "*   Badges: Rewards you earn for being a good samaritan on the stack exchange platform.\n",
    "\n",
    "\n",
    "For this homework we'll be parsing this data (dumped in XML) into dataframes and relations, and then exploring how to query and assemble the tables into results.  You'll get to exercise your skills in Pandas, SQL, and even something called PandaSQL!\n",
    "\n",
    "### Dataset Source\n",
    "\n",
    "We are going to use the XML dataset available at \n",
    "[StackExchange Dataset](https://archive.org/details/stackexchange).  "
   ]
  },
  {
   "cell_type": "code",
   "execution_count": 0,
   "metadata": {
    "colab": {},
    "colab_type": "code",
    "id": "QOOlQg2wnlGb"
   },
   "outputs": [],
   "source": [
    "### Install required packages\n",
    "%%capture\n",
    "!pip3 install lxml\n",
    "!pip install pandasql\n",
    "!pip install googledrivedownloader"
   ]
  },
  {
   "cell_type": "code",
   "execution_count": 6,
   "metadata": {
    "colab": {
     "base_uri": "https://localhost:8080/",
     "height": 53
    },
    "colab_type": "code",
    "id": "JA7lyPw3YfEr",
    "outputId": "4b74acd1-1af0-4dc6-a159-c5a7c9699b08"
   },
   "outputs": [
    {
     "name": "stdout",
     "output_type": "stream",
     "text": [
      "[nltk_data] Downloading package punkt to /root/nltk_data...\n",
      "[nltk_data]   Package punkt is already up-to-date!\n"
     ]
    }
   ],
   "source": [
    "import numpy as np\n",
    "import pandas as pd\n",
    "import matplotlib\n",
    "\n",
    "import gc\n",
    "import time\n",
    "import warnings\n",
    "\n",
    "import json # JSON parsing\n",
    "from lxml import etree # HTML parsing\n",
    "import time # Time conversions\n",
    "from lxml import etree # XML Parser\n",
    "import pandasql as ps #SQL on Pandas Dataframe\n",
    "\n",
    "import nltk\n",
    "nltk.download('punkt')\n",
    "\n",
    "from wordcloud import WordCloud\n",
    "import matplotlib.pyplot as plt\n",
    "\n",
    "from collections import Counter"
   ]
  },
  {
   "cell_type": "markdown",
   "metadata": {
    "colab_type": "text",
    "id": "5OTWuQBjWKw6"
   },
   "source": [
    "## Part 1: Steps to load data from Google Drive\n",
    "\n",
    "\n",
    "We have provided a copy of the \"Data Science Stack Exchange\" data, which we thought might provide some interesting insights about the very field you are studying!\n",
    "\n",
    "This is shared in Google Drive because it's (relatively) fast and inexpensive to copy data from GDrive to Colab.  There are multiple files:\n",
    "\n",
    "* Users.xml:  these are the users of Stack Exchange, including profile info.\n",
    "* Posts.xml:  these are the posts to Stack Exchange made by users.\n",
    "* PostHistory.xml: history of posts.\n",
    "* PostLinks.xml: hyperlinks from posts.\n",
    "* Comments.xml:  users make comments on posts.\n",
    "* Tags.xml:  posts can be marked with *tags* such as \"regression\".\n",
    "* Votes.xml:  posts can earn votes.\n",
    "* Badges.xml:  these are the \"badges\" earned by individual users.\n",
    "\n",
    "\n"
   ]
  },
  {
   "cell_type": "markdown",
   "metadata": {
    "colab_type": "text",
    "id": "GF8H_EZIZFNK"
   },
   "source": [
    "### 1.1 Loading Badges.xml\n",
    "*  The Badges.xml file has been made public for the access of anyone with a valid Penn email address.\n",
    "* Running the below cell will download the Badges.xml file into your drive. \n",
    "* You will be able to access the file with path as '***/content/Badges.xml***'"
   ]
  },
  {
   "cell_type": "code",
   "execution_count": 0,
   "metadata": {
    "colab": {},
    "colab_type": "code",
    "id": "VuuC2d5l8X7o"
   },
   "outputs": [],
   "source": [
    "from google_drive_downloader import GoogleDriveDownloader as gdd\n",
    "\n",
    "gdd.download_file_from_google_drive(file_id='18B966b7hlwjgNmVUeQASuXTC52czZHxm',\n",
    "                                    dest_path='/content/Badges.xml')"
   ]
  },
  {
   "cell_type": "code",
   "execution_count": 0,
   "metadata": {
    "colab": {},
    "colab_type": "code",
    "id": "r0gy_S9tZdWE"
   },
   "outputs": [],
   "source": [
    "#TODO\n",
    "badge_list=[]\n",
    "tree=etree.parse('Badges.xml')\n",
    "root=tree.getroot()\n",
    "\n",
    "for child in root:\n",
    "  badge_list.append(dict(child.attrib))"
   ]
  },
  {
   "cell_type": "code",
   "execution_count": 0,
   "metadata": {
    "colab": {},
    "colab_type": "code",
    "id": "Bu1Mk08O-HH0"
   },
   "outputs": [],
   "source": [
    "badges_df=pd.DataFrame(badge_list)"
   ]
  },
  {
   "cell_type": "code",
   "execution_count": 0,
   "metadata": {
    "colab": {},
    "colab_type": "code",
    "id": "V9IA4ZLJCxly"
   },
   "outputs": [],
   "source": [
    "badges_df['Id']=badges_df['Id'].astype(int)\n",
    "badges_df['UserId']=badges_df['UserId'].astype(int)\n",
    "badges_df['Name']=badges_df['Name'].astype(str)\n",
    "badges_df['Date']=badges_df['Date'].astype(str)\n",
    "badges_df['Class']=badges_df['Class'].astype(int)\n",
    "badges_df['TagBased']=badges_df['TagBased'].astype(bool)"
   ]
  },
  {
   "cell_type": "markdown",
   "metadata": {
    "colab_type": "text",
    "id": "AEJ1Oa5adKVy"
   },
   "source": [
    "### 1.2 Loading Users.xml\n",
    "*  The Users.xml file has been made public for the access of anyone with a valid UPenn email address.\n",
    "* Running the below cell will download the Users.xml file into your drive. \n",
    "* You will be able to access the file with path as '***/content/Users.xml***'"
   ]
  },
  {
   "cell_type": "code",
   "execution_count": 0,
   "metadata": {
    "colab": {},
    "colab_type": "code",
    "id": "x0T3ULT6doid"
   },
   "outputs": [],
   "source": [
    "gdd.download_file_from_google_drive(file_id='1T-SGFULQIkpg6LN5XLhBfiXhcAWNgCLe',\n",
    "                                    dest_path='/content/Users.xml')"
   ]
  },
  {
   "cell_type": "code",
   "execution_count": 0,
   "metadata": {
    "colab": {},
    "colab_type": "code",
    "id": "B3ZATej5bJIz"
   },
   "outputs": [],
   "source": [
    "#TODO\n",
    "users_list=[]\n",
    "tree=etree.parse('Users.xml')\n",
    "root=tree.getroot()\n",
    "\n",
    "for child in root:\n",
    "  users_list.append(dict(child.attrib))\n",
    "\n",
    "users_df=pd.DataFrame(users_list)"
   ]
  },
  {
   "cell_type": "code",
   "execution_count": 0,
   "metadata": {
    "colab": {},
    "colab_type": "code",
    "id": "uZzl7y5QPIy8"
   },
   "outputs": [],
   "source": [
    "users_df['Id']=users_df['Id'].astype(int)\n",
    "users_df['Reputation']=users_df['Reputation'].astype(int)\n",
    "users_df['DisplayName']=users_df['DisplayName'].astype(str)\n",
    "users_df['CreationDate']=users_df['CreationDate'].astype(str)\n",
    "users_df['LastAccessDate']=users_df['LastAccessDate'].astype(str)\n",
    "users_df['WebsiteUrl']=users_df['WebsiteUrl'].astype(str)\n",
    "users_df['Location']=users_df['Location'].astype(str)\n",
    "users_df['AboutMe']=users_df['AboutMe'].astype(str)\n",
    "users_df['Views']=users_df['Views'].astype(int)\n",
    "users_df['UpVotes']=users_df['UpVotes'].astype(int)\n",
    "users_df['DownVotes']=users_df['DownVotes'].astype(int)\n",
    "#users_df['AccountId']=users_df['AccountId'].astype(int)\n",
    "users_df['ProfileImageUrl']=users_df['ProfileImageUrl'].astype(str)"
   ]
  },
  {
   "cell_type": "markdown",
   "metadata": {
    "colab_type": "text",
    "id": "AgqTa6dteCvR"
   },
   "source": [
    "### 1.3 Loading Posts.xml\n",
    "*  The Posts.xml file has been made public for the access of anyone with a valid UPenn email address.\n",
    "* Running the below cell will download the Posts.xml file into your drive. \n",
    "* You will be able to access the file with path as '***/content/Posts.xml***'"
   ]
  },
  {
   "cell_type": "code",
   "execution_count": 0,
   "metadata": {
    "colab": {},
    "colab_type": "code",
    "id": "buecgG0MeMmM"
   },
   "outputs": [],
   "source": [
    "gdd.download_file_from_google_drive(file_id='1etuY-EjzgEfMdPCSd7NblNz0qJJpAH3b',\n",
    "                                    dest_path='/content/Posts.xml')"
   ]
  },
  {
   "cell_type": "code",
   "execution_count": 0,
   "metadata": {
    "colab": {},
    "colab_type": "code",
    "id": "Qd7o0rIPyYrq"
   },
   "outputs": [],
   "source": [
    "#TODO\n",
    "posts_list=[]\n",
    "tree=etree.parse('Posts.xml')\n",
    "root=tree.getroot()\n",
    "\n",
    "for child in root:\n",
    "  posts_list.append(dict(child.attrib))\n",
    "\n",
    "posts_df=pd.DataFrame(posts_list)"
   ]
  },
  {
   "cell_type": "code",
   "execution_count": 0,
   "metadata": {
    "colab": {},
    "colab_type": "code",
    "id": "dNQxvIspW_aF"
   },
   "outputs": [],
   "source": [
    "posts_df['Id']=posts_df['Id'].astype(int)\n",
    "posts_df['FavoriteCount']=posts_df['FavoriteCount'].astype(str).replace('nan',0).astype(int)\n",
    "posts_df['ViewCount']=posts_df['ViewCount'].astype(str).replace('nan',0).astype(int)\n",
    "posts_df['Score']=posts_df['Score'].astype(str).replace('nan',0).astype(int)\n",
    "posts_df['Body']=posts_df['Body'].astype(str)\n",
    "posts_df['Title']=posts_df['Title'].astype(str)"
   ]
  },
  {
   "cell_type": "markdown",
   "metadata": {
    "colab_type": "text",
    "id": "cbdbE1BYirMU"
   },
   "source": [
    "### 1.4 Loading Comments.xml\n",
    "*  The Comments.xml file has been made public for the access of anyone with a valid UPenn email address.\n",
    "* Running the below cell will download the Comments.xml file into your drive. \n",
    "* You will be able to access the file with path as '***/content/Comments.xml***'"
   ]
  },
  {
   "cell_type": "code",
   "execution_count": 0,
   "metadata": {
    "colab": {},
    "colab_type": "code",
    "id": "QEQEkXkbk35R"
   },
   "outputs": [],
   "source": [
    "gdd.download_file_from_google_drive(file_id='1H7-P3PK7OkPCzk7eK32uYBR42cBL6HIu',\n",
    "                                    dest_path='/content/Comments.xml')"
   ]
  },
  {
   "cell_type": "code",
   "execution_count": 0,
   "metadata": {
    "colab": {},
    "colab_type": "code",
    "id": "KrlSxwuOkHY7"
   },
   "outputs": [],
   "source": [
    "#TODO\n",
    "comments_list=[]\n",
    "tree=etree.parse('Comments.xml')\n",
    "root=tree.getroot()\n",
    "\n",
    "for child in root:\n",
    "  comments_list.append(dict(child.attrib))\n",
    "\n",
    "comments_df=pd.DataFrame(comments_list)"
   ]
  },
  {
   "cell_type": "code",
   "execution_count": 0,
   "metadata": {
    "colab": {},
    "colab_type": "code",
    "id": "DnjzlA3pCOIE"
   },
   "outputs": [],
   "source": [
    "comments_df['Id']=comments_df['Id'].astype(int)\n",
    "comments_df['PostId']=comments_df['PostId'].astype(int)\n",
    "#comments_df['UserId']=comments_df['UserId'].astype(int)\n",
    "comments_df['Score']=comments_df['Score'].astype(int)\n",
    "comments_df['Text']=comments_df['Text'].astype(str)\n",
    "comments_df['CreationDate']=comments_df['CreationDate'].astype(str)"
   ]
  },
  {
   "cell_type": "markdown",
   "metadata": {
    "colab_type": "text",
    "id": "ShtAkvKc2LEd"
   },
   "source": [
    "## Part 2: Exploring the data\n",
    "\n",
    "***'pandasql'*** allows you to query pandas DataFrames using SQL syntax. It works similarly to sqldf in R. pandasql seeks to provide a more familiar way of manipulating and cleaning data for people new to Python or pandas. Lets use *pandasql* to work on few queries. For those interested, [here](https://community.alteryx.com/t5/Data-Science-Blog/pandasql-Make-python-speak-SQL/ba-p/138435) is a good resource for pandasql (obviously there are many others)"
   ]
  },
  {
   "cell_type": "markdown",
   "metadata": {
    "colab_type": "text",
    "id": "gVUze2GC3Jl4"
   },
   "source": [
    "### 2.1 Credible Users\n",
    "Let's first find credible users (i.e. not Craig) who have a reputation of >= 5000. Reputation reflects a users familiarity with the site and the expected quality of the content they provide. It also affects the amount of privileges the user has within the Stack Exchange system. Users gain or lose reputation based on the quality of their interactions with the system and other community members. The primary reason for reputation change is voting. Posts which are voted up increase their authors’ reputation; the reverse is true for posts which are voted down. \n",
    "\n",
    "For example: If you are rude to TAs or his majesty, your reputation drops by -100000.\n",
    "\n",
    "You can read more about it [here](https://meta.stackexchange.com/questions/7237/how-does-reputation-work)!\n",
    "\n",
    "\n",
    "TLDR : Your task is to print the names of the users who have a reputation greater than or equal to 5,000 in the decreasing order of their reputation i.e. highest reputation first\n"
   ]
  },
  {
   "cell_type": "code",
   "execution_count": 0,
   "metadata": {
    "colab": {},
    "colab_type": "code",
    "id": "nduKUHWJ2YM8"
   },
   "outputs": [],
   "source": [
    "#TODO\n",
    "credible_user_names='''SELECT DisplayName,Reputation FROM users_df WHERE Reputation>=5000 ORDER BY Reputation DESC'''\n",
    "credible_user_names_df=ps.sqldf(credible_user_names,locals())"
   ]
  },
  {
   "cell_type": "markdown",
   "metadata": {
    "colab_type": "text",
    "id": "HQpQQA5D5adM"
   },
   "source": [
    "### 2.2 The Talkative Ten (i.e. the Maggies)\n",
    "\n",
    "Find the names of the top 10 users who post the most on stack exchange in the decreasing order of their number of posts. \n",
    "\n",
    "Your result dataframe should contain both names and the corresponding number of posts."
   ]
  },
  {
   "cell_type": "code",
   "execution_count": 0,
   "metadata": {
    "colab": {},
    "colab_type": "code",
    "id": "h_lU1dh_6ilD"
   },
   "outputs": [],
   "source": [
    "#TODO\n",
    "talkative_users='''SELECT u.DisplayName, COUNT(*) AS POST_COUNT FROM posts_df AS p\n",
    "                      JOIN users_df AS u ON u.Id=p.OwnerUserId\n",
    "                        GROUP BY p.OwnerUserId ORDER BY POST_COUNT DESC\n",
    "                          LIMIT 10'''\n",
    "talkative_users_df=ps.sqldf(talkative_users,locals())"
   ]
  },
  {
   "cell_type": "markdown",
   "metadata": {
    "colab_type": "text",
    "id": "KwLQXUmP679e"
   },
   "source": [
    "### 2.3 The Fabulous favorites (i.e. the Prof Ives)\n",
    "\n",
    "On stack exchange you can favourite posts which allows you to easily access them kinda like the liked songs on spotify. Find the top 5% most favorited posts. \n",
    "\n",
    "Return the id, text, and number of favorites, in the decreasing order of the number of favorites. Your result schema should be: Id, Body, TOP_MOST"
   ]
  },
  {
   "cell_type": "code",
   "execution_count": 0,
   "metadata": {
    "colab": {},
    "colab_type": "code",
    "id": "orsuD1epedg_"
   },
   "outputs": [],
   "source": [
    "#TODO\n",
    "favorited_post='''SELECT Id, Body, FavoriteCount AS TOP_MOST FROM posts_df ORDER BY TOP_MOST DESC\n",
    "                LIMIT ROUND((SELECT COUNT(*) FROM posts_df)*0.05)'''\n",
    "answer_df=ps.sqldf(favorited_post,locals())"
   ]
  },
  {
   "cell_type": "markdown",
   "metadata": {
    "colab_type": "text",
    "id": "DA4WILiC82yn"
   },
   "source": [
    "### 2.4 Where the data scientists at? \n",
    "\n",
    "We hypothesize that most data science posts come from Silicon Valley (the place, not the TV show). We will compare the number of posts from users in  silicon valley to the number of posts from the users (mostly sad Penn engineering students) in Philadelphia. \n",
    "\n",
    "First, create a dataframe to find out posts of all users who are based out of Silicon Valley(location contains the word \"Silicon Valley\"). The dataframe should contain the user's display name and the content(the body) of the post. Name the second column \"SILICON_POSTS\" and do this within the query."
   ]
  },
  {
   "cell_type": "code",
   "execution_count": 0,
   "metadata": {
    "colab": {},
    "colab_type": "code",
    "id": "EebyoP3V-J-Y"
   },
   "outputs": [],
   "source": [
    "#TODO\n",
    "silicon_posts='''SELECT u.DisplayName, p.Body AS SILICON_POSTS FROM posts_df AS p\n",
    "                      JOIN users_df AS u ON u.Id=p.OwnerUserId\n",
    "                          WHERE u.Location LIKE '%Silicon Valley%'\n",
    "                          '''\n",
    "silicon_posts_df=ps.sqldf(silicon_posts,locals())"
   ]
  },
  {
   "cell_type": "markdown",
   "metadata": {
    "colab_type": "text",
    "id": "hv_FKS0K-k7u"
   },
   "source": [
    "Now let's find the number of posts from Philly! Create a similar dataframe as above but for location as Philadelphia"
   ]
  },
  {
   "cell_type": "code",
   "execution_count": 0,
   "metadata": {
    "colab": {},
    "colab_type": "code",
    "id": "9XxbpteG-4RU"
   },
   "outputs": [],
   "source": [
    "#TODO\n",
    "cheesesteak_posts='''SELECT u.DisplayName AS DisplayName, p.Body AS PHILADELPHIA_POSTS FROM posts_df AS p\n",
    "                      JOIN users_df AS u ON u.Id=p.OwnerUserId\n",
    "                          WHERE u.Location LIKE '%Philadelphia%'\n",
    "                          '''\n",
    "cheesesteak_posts_df=ps.sqldf(cheesesteak_posts,locals())"
   ]
  },
  {
   "cell_type": "markdown",
   "metadata": {
    "colab_type": "text",
    "id": "zva7j1F9_CSO"
   },
   "source": [
    "Next, find the locations whose users make the most number of posts. You should return a dataframe with the location and the corresponding number of posts. Title the second column \"NUM_POSTS\". Do this within the query. Limit your results to only 25"
   ]
  },
  {
   "cell_type": "code",
   "execution_count": 0,
   "metadata": {
    "colab": {},
    "colab_type": "code",
    "id": "npgiP13I_cv1"
   },
   "outputs": [],
   "source": [
    "#TODO\n",
    "locations_post_count='''SELECT u.Location, COUNT(*) AS NUM_POSTS FROM posts_df AS p\n",
    "                  JOIN users_df AS u ON u.Id=p.OwnerUserId\n",
    "                      GROUP BY u.Location ORDER BY NUM_POSTS DESC LIMIT 25\n",
    "                      '''\n",
    "locations_post_count_df=ps.sqldf(locations_post_count,locals())"
   ]
  },
  {
   "cell_type": "markdown",
   "metadata": {
    "colab_type": "text",
    "id": "eijruh5C_k0Y"
   },
   "source": [
    "### 2.5 The Self-Obsessed Users (i.e. the Craigs again)\n",
    "\n",
    "Let's find users who comment on their own posts a lotttt. You should return a dataframe which has the display name of the user and the number of comments that the person has on their own posts. \n",
    "Keep users whose number of comments (on their own posts) is strictly greater than the median number from your result"
   ]
  },
  {
   "cell_type": "code",
   "execution_count": 0,
   "metadata": {
    "colab": {},
    "colab_type": "code",
    "id": "6IdF1sZ4Aa7O"
   },
   "outputs": [],
   "source": [
    "#TODO\n",
    "self_obsessed='''SELECT co.UserId AS UserId, COUNT(*) AS Count FROM comments_df AS co\n",
    "                  JOIN posts_df AS p ON co.PostId=p.Id\n",
    "                    WHERE UserId=p.OwnerUserId GROUP BY UserId\n",
    "                    HAVING Count>1 ORDER BY Count DESC\n",
    "                    '''\n",
    "filter_df=ps.sqldf(self_obsessed,locals())"
   ]
  },
  {
   "cell_type": "markdown",
   "metadata": {
    "colab_type": "text",
    "id": "cVmOB0dUAfDT"
   },
   "source": [
    "### 2.6 All about the 'Big Data' Buzz\n",
    "\n",
    "You probably signed up for this class for the cooool name 'bIg DaTa ANalYtIcS'. Big data and ML are the current hype. Let's see how many posts talk about big data and how often these are viewed. \n",
    "\n",
    "Create a dataframe that includes the title, view count and body where the post body contains 'big data' (ignore case when you match). Sort in the decreasing order of the number of views. Return only posts which have been viewed.\n"
   ]
  },
  {
   "cell_type": "code",
   "execution_count": 0,
   "metadata": {
    "colab": {},
    "colab_type": "code",
    "id": "f61JAt9CB795"
   },
   "outputs": [],
   "source": [
    "#TODO\n",
    "buzz='''SELECT Title, ViewCount, Body FROM posts_df \n",
    "              WHERE UPPER(Body) LIKE '%BIG DATA%' AND ViewCount>0 \n",
    "                ORDER BY ViewCount DESC'''\n",
    "buzz_df=ps.sqldf(buzz,locals())"
   ]
  },
  {
   "cell_type": "markdown",
   "metadata": {
    "colab_type": "text",
    "id": "HVFWg8urCDsk"
   },
   "source": [
    "Next, fetch the authors(displayName) of the top 10 posts in the buzz_df created above. Return the authors in the decreasing order of the view counts of their corresponding posts. Your dataframe should include the display name and the view count for the corresponding post.\n"
   ]
  },
  {
   "cell_type": "code",
   "execution_count": 0,
   "metadata": {
    "colab": {},
    "colab_type": "code",
    "id": "0aNGTYkhCi5K"
   },
   "outputs": [],
   "source": [
    "#TODO\n",
    "buzz_authors='''SELECT u.DisplayName AS DisplayName, b.ViewCount AS ViewCount FROM buzz_df AS b\n",
    "            JOIN posts_df AS p ON p.Title=b.Title \n",
    "              JOIN users_df AS u ON u.ID=p.OwnerUserId\n",
    "                ORDER BY ViewCount DESC LIMIT 10\n",
    "                '''\n",
    "buzz_authors_df=ps.sqldf(buzz_authors,locals())"
   ]
  },
  {
   "cell_type": "markdown",
   "metadata": {
    "colab_type": "text",
    "id": "7nLi5zXcCqSA"
   },
   "source": [
    "## Part 3: Working with Text Data\n",
    "\n",
    "Our Stack Exchange data has plenty of text that we can play with, from the user descriptions, to the posts themselves. Text data is complex, but can also be generate extremely interpretable results, making it valuable and interesting. \n",
    "\n",
    "Let's see how we can apply the concepts from lecture to this dataset.\n",
    "\n",
    "***You should revert to using pandas to handle the data in this section, rather than pandasql.***\n",
    "\n",
    "### How do I get a high score? \n",
    "\n",
    "Suppose you're very invested in your Stack Exchange reputation, so you want to figure out what to post to increase your own reputation. Each post receives a score, where **score = number of upvotes - number of downvotes**. This value is already present in your posts_df. \n",
    "\n",
    "So, what should you post about in order to get a higher score and thus a higher reputation? Additionally, what shouldn't you post about?\n"
   ]
  },
  {
   "cell_type": "markdown",
   "metadata": {
    "colab_type": "text",
    "id": "kMRY0RF8uXYA"
   },
   "source": [
    "### 3.1\n",
    "First, get the the top 2% and the bottom 2% of posts in the dataset, by **Score**.\n",
    "\n",
    "Create two separate dataframes and name them **highest_scorers** and **lowest_scorers**."
   ]
  },
  {
   "cell_type": "code",
   "execution_count": 0,
   "metadata": {
    "colab": {},
    "colab_type": "code",
    "id": "6pn_6fRJcgG6"
   },
   "outputs": [],
   "source": [
    "num=int(len(posts_df)*0.02)"
   ]
  },
  {
   "cell_type": "code",
   "execution_count": 0,
   "metadata": {
    "colab": {},
    "colab_type": "code",
    "id": "5D5HI1FmMZ75"
   },
   "outputs": [],
   "source": [
    "#TODO\n",
    "lowest_scorers=posts_df.sort_values(by='Score',ascending=True)[:num]\n",
    "highest_scorers=posts_df.sort_values(by='Score',ascending=False)[:num]"
   ]
  },
  {
   "cell_type": "markdown",
   "metadata": {
    "colab_type": "text",
    "id": "9YxGtHWgN8Nf"
   },
   "source": [
    "### 3.2 \n",
    "\n",
    "Next, generate a list of tokens from the highest_scorers and the lowest_scorers. \n",
    "\n",
    "There are a few ways you can go about doing this, so you're welcome to take your own approach (as long as it still generates the same result!). Take a look at the notebook from the Text Lecture for some guidance!\n",
    "\n",
    "Here is a method that you could use:\n",
    "\n",
    "For each dataframe: \n",
    "1. Create a list of all of the titles. \n",
    "2. Tokenize each of the titles.\n",
    "3. Flatten into one single list of tokens.\n",
    "\n",
    "**Important:** Make sure you do the following:\n",
    "- Remove any posts without a title, aka with a 0 where the title should be. \n",
    "- Lowercase all of the words.\n"
   ]
  },
  {
   "cell_type": "code",
   "execution_count": 0,
   "metadata": {
    "colab": {},
    "colab_type": "code",
    "id": "joeU_Ytbe3fS"
   },
   "outputs": [],
   "source": [
    "import nltk\n",
    "from nltk.tokenize import word_tokenize"
   ]
  },
  {
   "cell_type": "code",
   "execution_count": 0,
   "metadata": {
    "colab": {},
    "colab_type": "code",
    "id": "guqQM05YlXmw"
   },
   "outputs": [],
   "source": [
    "#TODO\n",
    "def get_token_list(scorers):\n",
    "  title_list=[]\n",
    "  for index, row in scorers.iterrows():\n",
    "    if row['Title']!='nan':\n",
    "      title_list.append(row['Title'])\n",
    "\n",
    "  word_list=[]\n",
    "  for title in title_list:\n",
    "    words = word_tokenize(str(title))\n",
    "    for word in words:\n",
    "      if word.isalpha():\n",
    "        word_list.append(word.lower())\n",
    "  return word_list"
   ]
  },
  {
   "cell_type": "code",
   "execution_count": 0,
   "metadata": {
    "colab": {},
    "colab_type": "code",
    "id": "6HKDkzG0mX51"
   },
   "outputs": [],
   "source": [
    "lowest_tokens=get_token_list(lowest_scorers)\n",
    "highest_tokens=get_token_list(highest_scorers)"
   ]
  },
  {
   "cell_type": "markdown",
   "metadata": {
    "colab_type": "text",
    "id": "vICD1EWvTEcQ"
   },
   "source": [
    "### 3.3 \n",
    "Next, we should remove stopwords from these lists. \n",
    "\n",
    "A stop word is a commonly used word (such as “the”, “a”, “an”, “in”) that a search engine has been programmed to ignore, both when indexing entries for searching and when retrieving them as the result of a search query.\n",
    "\n",
    "When processing text, we want to exclude these words, otherwise they will dilute our results. We do not want them to take up space or processing time, or to have to filter through them when reading our results.\n",
    "\n",
    "Fortunately, the NLTK package has a predefined list of stopwords that we can utilize."
   ]
  },
  {
   "cell_type": "code",
   "execution_count": 49,
   "metadata": {
    "colab": {
     "base_uri": "https://localhost:8080/",
     "height": 71
    },
    "colab_type": "code",
    "id": "L9i7cNCZTQbs",
    "outputId": "05b28755-6237-4b54-d9da-9e01b652bc9e"
   },
   "outputs": [
    {
     "name": "stdout",
     "output_type": "stream",
     "text": [
      "[nltk_data] Downloading package stopwords to /root/nltk_data...\n",
      "[nltk_data]   Package stopwords is already up-to-date!\n"
     ]
    },
    {
     "data": {
      "text/plain": [
       "True"
      ]
     },
     "execution_count": 49,
     "metadata": {
      "tags": []
     },
     "output_type": "execute_result"
    }
   ],
   "source": [
    "import nltk\n",
    "from nltk.corpus import stopwords\n",
    "nltk.download('stopwords')"
   ]
  },
  {
   "cell_type": "code",
   "execution_count": 0,
   "metadata": {
    "colab": {},
    "colab_type": "code",
    "id": "eNbtauktUNj7"
   },
   "outputs": [],
   "source": [
    "stop_words = set(stopwords.words('english')) "
   ]
  },
  {
   "cell_type": "code",
   "execution_count": 0,
   "metadata": {
    "colab": {},
    "colab_type": "code",
    "id": "LWKBJXTFs-O9"
   },
   "outputs": [],
   "source": [
    "stop_words=list(stop_words)"
   ]
  },
  {
   "cell_type": "markdown",
   "metadata": {
    "colab_type": "text",
    "id": "umUjJJVFUDLu"
   },
   "source": [
    "Take a look at some of the stop words to familiarize yourself with the concept.\n",
    "\n",
    "Filter all of these stopwords out of both our lists of tokens."
   ]
  },
  {
   "cell_type": "code",
   "execution_count": 0,
   "metadata": {
    "colab": {},
    "colab_type": "code",
    "id": "scNTA_OSUCUO"
   },
   "outputs": [],
   "source": [
    "#TODO\n",
    "def get_filtered_words(tokens):\n",
    "  filtered_words=[]\n",
    "  for word in tokens:\n",
    "    if word not in stop_words:\n",
    "      if word!='nan':\n",
    "        filtered_words.append(word)\n",
    "  return filtered_words"
   ]
  },
  {
   "cell_type": "code",
   "execution_count": 0,
   "metadata": {
    "colab": {},
    "colab_type": "code",
    "id": "2BXbBQCFya3X"
   },
   "outputs": [],
   "source": [
    "filtered_lowest=get_filtered_words(lowest_tokens)\n",
    "filtered_highest=get_filtered_words(highest_tokens)"
   ]
  },
  {
   "cell_type": "markdown",
   "metadata": {
    "colab_type": "text",
    "id": "hcf6EkaByays"
   },
   "source": [
    "Now, find the 20 most common words amongst your highest scoring titles and your lowest scoring titles."
   ]
  },
  {
   "cell_type": "code",
   "execution_count": 0,
   "metadata": {
    "colab": {},
    "colab_type": "code",
    "id": "cJiurRmVUzYA"
   },
   "outputs": [],
   "source": [
    "#TODO\n",
    "def count_word(filtered):\n",
    "  cnt = Counter()\n",
    "  for word in filtered:\n",
    "    cnt[word] += 1\n",
    "\n",
    "  counter_df = pd.DataFrame.from_dict(cnt,orient='index').reset_index()\n",
    "  counter_df_sorted = counter_df.sort_values(by=0,ascending=False)[:20]\n",
    "  return counter_df_sorted"
   ]
  },
  {
   "cell_type": "code",
   "execution_count": 0,
   "metadata": {
    "colab": {},
    "colab_type": "code",
    "id": "7zdULlT52w1s"
   },
   "outputs": [],
   "source": [
    "lowest_counter_df=count_word(filtered_lowest)\n",
    "highest_counter_df=count_word(filtered_highest)"
   ]
  },
  {
   "cell_type": "code",
   "execution_count": 0,
   "metadata": {
    "colab": {},
    "colab_type": "code",
    "id": "0P0-T6Wm6vXz"
   },
   "outputs": [],
   "source": [
    "lowest_counter=lowest_counter_df['index'].values.tolist()\n",
    "highest_counter=highest_counter_df['index'].values.tolist()"
   ]
  },
  {
   "cell_type": "markdown",
   "metadata": {
    "colab_type": "text",
    "id": "OJ67qCd5uk6u"
   },
   "source": [
    "### 3.4"
   ]
  },
  {
   "cell_type": "markdown",
   "metadata": {
    "colab_type": "text",
    "id": "m9zC7FWxVvDx"
   },
   "source": [
    "Oof. Well, these words look pretty much the same... \n",
    "\n",
    "Let's visualize our results in word clouds and see if we can notice any significant takeaways.\n",
    "\n",
    "Create two word clouds- one of each group of tokens that you generated. Title them so that it is clear which visualization corresponds to which group."
   ]
  },
  {
   "cell_type": "code",
   "execution_count": 59,
   "metadata": {
    "colab": {
     "base_uri": "https://localhost:8080/",
     "height": 232
    },
    "colab_type": "code",
    "id": "CyMFFNIWVfuV",
    "outputId": "4edc5028-7fe3-4d1f-83d1-f322daf9f21a"
   },
   "outputs": [
    {
     "data": {
      "text/plain": [
       "<matplotlib.image.AxesImage at 0x7fcc65eb9390>"
      ]
     },
     "execution_count": 59,
     "metadata": {
      "tags": []
     },
     "output_type": "execute_result"
    },
    {
     "data": {
      "image/png": "[encoded data removed]",
      "text/plain": [
       "<Figure size 432x288 with 1 Axes>"
      ]
     },
     "metadata": {
      "tags": []
     },
     "output_type": "display_data"
    }
   ],
   "source": [
    "#TODO\n",
    "wordcloud=WordCloud(background_color='white').generate(\" \".join(filtered_lowest))                        \n",
    "plt.title('Lowest Scores WordCloud')\n",
    "plt.axis(\"off\")\n",
    "plt.imshow(wordcloud)"
   ]
  },
  {
   "cell_type": "code",
   "execution_count": 60,
   "metadata": {
    "colab": {
     "base_uri": "https://localhost:8080/",
     "height": 232
    },
    "colab_type": "code",
    "id": "P-4PXpLm_hHp",
    "outputId": "ce3c62cf-1246-480a-894b-52c859e7beff"
   },
   "outputs": [
    {
     "data": {
      "text/plain": [
       "<matplotlib.image.AxesImage at 0x7fcc66bdd438>"
      ]
     },
     "execution_count": 60,
     "metadata": {
      "tags": []
     },
     "output_type": "execute_result"
    },
    {
     "data": {
      "image/png": "[encoded data removed]",
      "text/plain": [
       "<Figure size 432x288 with 1 Axes>"
      ]
     },
     "metadata": {
      "tags": []
     },
     "output_type": "display_data"
    }
   ],
   "source": [
    "wordcloud=WordCloud(background_color='white').generate(\" \".join(filtered_highest))                        \n",
    "plt.title('Highest Scores WordCloud')\n",
    "plt.axis(\"off\")\n",
    "plt.imshow(wordcloud)"
   ]
  },
  {
   "cell_type": "markdown",
   "metadata": {
    "colab_type": "text",
    "id": "ISe_XMH7ivEa"
   },
   "source": [
    "# Section 2: Spark, Hierarchical Data and Graph Data on Yelp Reviews Dataset"
   ]
  },
  {
   "cell_type": "markdown",
   "metadata": {
    "colab_type": "text",
    "id": "KJJHiaJ_1P9G"
   },
   "source": [
    "## Getting Started with Apache Spark\n",
    "\n",
    "Apache Spark, which has become the de facto successor to Apache Hadoop, is a complex, cluster-based data processing system that was written in Scala.  It leverages a wide variety of distributed tools and components used for big data processing.  It interfaces “smoothly” to Python, but be forewarned that there are some rough edges.  For those interested in why, there are a few reasons:\n",
    "\n",
    "* Scala has slightly different notions of types (especially things like Rows) and handles missing values (nulls) differently from Python.\n",
    "* The Scala-based Spark “engine” can’t just run Python functions as it’s doing data processing.  This means that you want to be careful to use Spark’s library of functions, or the special mechanisms for inserting “user defined functions.”\n",
    "* DataFrames on Spark are “sharded,” so there is no single object corresponding to the DataFrame!\n",
    "\n",
    "While Spark DataFrames try to emulate the same programming style as Pandas DataFrames, there are some differences in how you express things.  Please refer to the Lecture Slides for our take on the differences.  You may also find the following Web pages to be useful resources for understanding Spark vs Pandas DataFrames:\n",
    "\n",
    "https://lab.getbase.com/pandarize-spark-dataframes/\n",
    "https://ogirardot.wordpress.com/2015/07/31/from-pandas-to-apache-sparks-dataframe/ \n",
    "\n",
    "For this assignment, we are going to get familiar with Spark without worrying too much about sharding and distribution.  We are going to run Spark on your Docker container.  This isn’t really using it to its strengths -- and in fact you might find Spark to be unexpectedly slow -- but it will get you comfortable with programming in Spark without worrying about distributed nodes, clusters, and spending real dollars on the cloud.  Your code, if written properly, will “naturally scale” to clusters running on the Cloud.  Later in the term we’ll connect your Jupyter instance to Spark running on the cloud -- to handle “truly big data.”\n",
    "\n",
    "\n",
    "### Initializing a Connection to Spark\n",
    "\n",
    "We'll open a connection to Spark as follows. Note that Spark has multiple interfaces, as you will see if you look at sample code elsewhere. `SparkSession` is the “most modern” one and we’ll be using it for this course.  From `SparkSession`, you can load data into Spark DataFrames as well as `RDD`s.\n",
    "\n",
    "Run the follow cells to setup the notebook!"
   ]
  },
  {
   "cell_type": "code",
   "execution_count": 62,
   "metadata": {
    "colab": {
     "base_uri": "https://localhost:8080/",
     "height": 1000
    },
    "colab_type": "code",
    "id": "G8RH4R771X6n",
    "outputId": "1ffd2e51-bd3b-4476-ab62-5308c03bf86e"
   },
   "outputs": [
    {
     "name": "stdout",
     "output_type": "stream",
     "text": [
      "Reading package lists... Done\n",
      "Building dependency tree       \n",
      "Reading state information... Done\n",
      "libkrb5-dev is already the newest version (1.16-2ubuntu0.1).\n",
      "The following package was automatically installed and is no longer required:\n",
      "  libnvidia-common-430\n",
      "Use 'apt autoremove' to remove it.\n",
      "0 upgraded, 0 newly installed, 0 to remove and 106 not upgraded.\n",
      "--2020-02-23 22:10:50--  https://www-us.apache.org/dist/spark/spark-2.4.5/spark-2.4.5-bin-hadoop2.7.tgz\n",
      "Resolving www-us.apache.org (www-us.apache.org)... 40.79.78.1\n",
      "Connecting to www-us.apache.org (www-us.apache.org)|40.79.78.1|:443... connected.\n",
      "HTTP request sent, awaiting response... 302 Found\n",
      "Location: https://downloads.apache.org/spark/spark-2.4.5/spark-2.4.5-bin-hadoop2.7.tgz [following]\n",
      "--2020-02-23 22:10:50--  https://downloads.apache.org/spark/spark-2.4.5/spark-2.4.5-bin-hadoop2.7.tgz\n",
      "Resolving downloads.apache.org (downloads.apache.org)... 88.99.95.219, 2a01:4f8:10a:201a::2\n",
      "Connecting to downloads.apache.org (downloads.apache.org)|88.99.95.219|:443... connected.\n",
      "HTTP request sent, awaiting response... 200 OK\n",
      "Length: 232530699 (222M) [application/x-gzip]\n",
      "Saving to: ‘spark-2.4.5-bin-hadoop2.7.tgz.3’\n",
      "\n",
      "spark-2.4.5-bin-had 100%[===================>] 221.76M  27.5MB/s    in 8.7s    \n",
      "\n",
      "2020-02-23 22:10:59 (25.5 MB/s) - ‘spark-2.4.5-bin-hadoop2.7.tgz.3’ saved [232530699/232530699]\n",
      "\n",
      "Requirement already satisfied: findspark in /usr/local/lib/python3.6/dist-packages (1.3.0)\n",
      "Requirement already satisfied: sparkmagic in /usr/local/lib/python3.6/dist-packages (0.15.0)\n",
      "Requirement already satisfied: numpy in /usr/local/lib/python3.6/dist-packages (from sparkmagic) (1.17.5)\n",
      "Requirement already satisfied: ipykernel in /usr/local/lib/python3.6/dist-packages (from sparkmagic) (4.6.1)\n",
      "Requirement already satisfied: notebook>=4.2 in /usr/local/lib/python3.6/dist-packages (from sparkmagic) (5.2.2)\n",
      "Requirement already satisfied: hdijupyterutils>=0.6 in /usr/local/lib/python3.6/dist-packages (from sparkmagic) (0.15.0)\n",
      "Requirement already satisfied: ipywidgets>5.0.0 in /usr/local/lib/python3.6/dist-packages (from sparkmagic) (7.5.1)\n",
      "Requirement already satisfied: requests-kerberos>=0.8.0 in /usr/local/lib/python3.6/dist-packages (from sparkmagic) (0.12.0)\n",
      "Requirement already satisfied: pandas>=0.17.1 in /usr/local/lib/python3.6/dist-packages (from sparkmagic) (0.25.3)\n",
      "Requirement already satisfied: requests in /usr/local/lib/python3.6/dist-packages (from sparkmagic) (2.21.0)\n",
      "Requirement already satisfied: autovizwidget>=0.6 in /usr/local/lib/python3.6/dist-packages (from sparkmagic) (0.15.0)\n",
      "Requirement already satisfied: tornado>=4 in /usr/local/lib/python3.6/dist-packages (from sparkmagic) (4.5.3)\n",
      "Requirement already satisfied: nose in /usr/local/lib/python3.6/dist-packages (from sparkmagic) (1.3.7)\n",
      "Requirement already satisfied: mock in /usr/local/lib/python3.6/dist-packages (from sparkmagic) (4.0.1)\n",
      "Requirement already satisfied: ipython>=4.0.2 in /usr/local/lib/python3.6/dist-packages (from sparkmagic) (5.5.0)\n",
      "Requirement already satisfied: traitlets>=4.1.0 in /usr/local/lib/python3.6/dist-packages (from ipykernel->sparkmagic) (4.3.3)\n",
      "Requirement already satisfied: jupyter-client in /usr/local/lib/python3.6/dist-packages (from ipykernel->sparkmagic) (5.3.4)\n",
      "Requirement already satisfied: ipython-genutils in /usr/local/lib/python3.6/dist-packages (from notebook>=4.2->sparkmagic) (0.2.0)\n",
      "Requirement already satisfied: jinja2 in /usr/local/lib/python3.6/dist-packages (from notebook>=4.2->sparkmagic) (2.11.1)\n",
      "Requirement already satisfied: nbconvert in /usr/local/lib/python3.6/dist-packages (from notebook>=4.2->sparkmagic) (5.6.1)\n",
      "Requirement already satisfied: terminado>=0.3.3; sys_platform != \"win32\" in /usr/local/lib/python3.6/dist-packages (from notebook>=4.2->sparkmagic) (0.8.3)\n",
      "Requirement already satisfied: nbformat in /usr/local/lib/python3.6/dist-packages (from notebook>=4.2->sparkmagic) (5.0.4)\n",
      "Requirement already satisfied: jupyter-core in /usr/local/lib/python3.6/dist-packages (from notebook>=4.2->sparkmagic) (4.6.2)\n",
      "Requirement already satisfied: jupyter>=1 in /usr/local/lib/python3.6/dist-packages (from hdijupyterutils>=0.6->sparkmagic) (1.0.0)\n",
      "Requirement already satisfied: widgetsnbextension~=3.5.0 in /usr/local/lib/python3.6/dist-packages (from ipywidgets>5.0.0->sparkmagic) (3.5.1)\n",
      "Requirement already satisfied: cryptography>=1.3; python_version != \"3.3\" in /usr/local/lib/python3.6/dist-packages (from requests-kerberos>=0.8.0->sparkmagic) (2.8)\n",
      "Requirement already satisfied: pykerberos<2.0.0,>=1.1.8; sys_platform != \"win32\" in /usr/local/lib/python3.6/dist-packages (from requests-kerberos>=0.8.0->sparkmagic) (1.2.1)\n",
      "Requirement already satisfied: python-dateutil>=2.6.1 in /usr/local/lib/python3.6/dist-packages (from pandas>=0.17.1->sparkmagic) (2.6.1)\n",
      "Requirement already satisfied: pytz>=2017.2 in /usr/local/lib/python3.6/dist-packages (from pandas>=0.17.1->sparkmagic) (2018.9)\n",
      "Requirement already satisfied: urllib3<1.25,>=1.21.1 in /usr/local/lib/python3.6/dist-packages (from requests->sparkmagic) (1.24.3)\n",
      "Requirement already satisfied: chardet<3.1.0,>=3.0.2 in /usr/local/lib/python3.6/dist-packages (from requests->sparkmagic) (3.0.4)\n",
      "Requirement already satisfied: idna<2.9,>=2.5 in /usr/local/lib/python3.6/dist-packages (from requests->sparkmagic) (2.8)\n",
      "Requirement already satisfied: certifi>=2017.4.17 in /usr/local/lib/python3.6/dist-packages (from requests->sparkmagic) (2019.11.28)\n",
      "Requirement already satisfied: plotly>=3 in /usr/local/lib/python3.6/dist-packages (from autovizwidget>=0.6->sparkmagic) (4.4.1)\n",
      "Requirement already satisfied: pygments in /usr/local/lib/python3.6/dist-packages (from ipython>=4.0.2->sparkmagic) (2.1.3)\n",
      "Requirement already satisfied: decorator in /usr/local/lib/python3.6/dist-packages (from ipython>=4.0.2->sparkmagic) (4.4.1)\n",
      "Requirement already satisfied: simplegeneric>0.8 in /usr/local/lib/python3.6/dist-packages (from ipython>=4.0.2->sparkmagic) (0.8.1)\n",
      "Requirement already satisfied: pexpect; sys_platform != \"win32\" in /usr/local/lib/python3.6/dist-packages (from ipython>=4.0.2->sparkmagic) (4.8.0)\n",
      "Requirement already satisfied: prompt-toolkit<2.0.0,>=1.0.4 in /usr/local/lib/python3.6/dist-packages (from ipython>=4.0.2->sparkmagic) (1.0.18)\n",
      "Requirement already satisfied: setuptools>=18.5 in /usr/local/lib/python3.6/dist-packages (from ipython>=4.0.2->sparkmagic) (45.1.0)\n",
      "Requirement already satisfied: pickleshare in /usr/local/lib/python3.6/dist-packages (from ipython>=4.0.2->sparkmagic) (0.7.5)\n",
      "Requirement already satisfied: six in /usr/local/lib/python3.6/dist-packages (from traitlets>=4.1.0->ipykernel->sparkmagic) (1.12.0)\n",
      "Requirement already satisfied: pyzmq>=13 in /usr/local/lib/python3.6/dist-packages (from jupyter-client->ipykernel->sparkmagic) (17.0.0)\n",
      "Requirement already satisfied: MarkupSafe>=0.23 in /usr/local/lib/python3.6/dist-packages (from jinja2->notebook>=4.2->sparkmagic) (1.1.1)\n",
      "Requirement already satisfied: entrypoints>=0.2.2 in /usr/local/lib/python3.6/dist-packages (from nbconvert->notebook>=4.2->sparkmagic) (0.3)\n",
      "Requirement already satisfied: bleach in /usr/local/lib/python3.6/dist-packages (from nbconvert->notebook>=4.2->sparkmagic) (3.1.0)\n",
      "Requirement already satisfied: mistune<2,>=0.8.1 in /usr/local/lib/python3.6/dist-packages (from nbconvert->notebook>=4.2->sparkmagic) (0.8.4)\n",
      "Requirement already satisfied: pandocfilters>=1.4.1 in /usr/local/lib/python3.6/dist-packages (from nbconvert->notebook>=4.2->sparkmagic) (1.4.2)\n",
      "Requirement already satisfied: defusedxml in /usr/local/lib/python3.6/dist-packages (from nbconvert->notebook>=4.2->sparkmagic) (0.6.0)\n",
      "Requirement already satisfied: testpath in /usr/local/lib/python3.6/dist-packages (from nbconvert->notebook>=4.2->sparkmagic) (0.4.4)\n",
      "Requirement already satisfied: ptyprocess; os_name != \"nt\" in /usr/local/lib/python3.6/dist-packages (from terminado>=0.3.3; sys_platform != \"win32\"->notebook>=4.2->sparkmagic) (0.6.0)\n",
      "Requirement already satisfied: jsonschema!=2.5.0,>=2.4 in /usr/local/lib/python3.6/dist-packages (from nbformat->notebook>=4.2->sparkmagic) (2.6.0)\n",
      "Requirement already satisfied: jupyter-console in /usr/local/lib/python3.6/dist-packages (from jupyter>=1->hdijupyterutils>=0.6->sparkmagic) (5.2.0)\n",
      "Requirement already satisfied: qtconsole in /usr/local/lib/python3.6/dist-packages (from jupyter>=1->hdijupyterutils>=0.6->sparkmagic) (4.6.0)\n",
      "Requirement already satisfied: cffi!=1.11.3,>=1.8 in /usr/local/lib/python3.6/dist-packages (from cryptography>=1.3; python_version != \"3.3\"->requests-kerberos>=0.8.0->sparkmagic) (1.14.0)\n",
      "Requirement already satisfied: retrying>=1.3.3 in /usr/local/lib/python3.6/dist-packages (from plotly>=3->autovizwidget>=0.6->sparkmagic) (1.3.3)\n",
      "Requirement already satisfied: wcwidth in /usr/local/lib/python3.6/dist-packages (from prompt-toolkit<2.0.0,>=1.0.4->ipython>=4.0.2->sparkmagic) (0.1.8)\n",
      "Requirement already satisfied: webencodings in /usr/local/lib/python3.6/dist-packages (from bleach->nbconvert->notebook>=4.2->sparkmagic) (0.5.1)\n",
      "Requirement already satisfied: pycparser in /usr/local/lib/python3.6/dist-packages (from cffi!=1.11.3,>=1.8->cryptography>=1.3; python_version != \"3.3\"->requests-kerberos>=0.8.0->sparkmagic) (2.19)\n",
      "Requirement already satisfied: pyspark in /usr/local/lib/python3.6/dist-packages (2.4.5)\n",
      "Requirement already satisfied: py4j==0.10.7 in /usr/local/lib/python3.6/dist-packages (from pyspark) (0.10.7)\n",
      "Requirement already satisfied: pyspark in /usr/local/lib/python3.6/dist-packages (2.4.5)\n",
      "Requirement already satisfied: py4j==0.10.7 in /usr/local/lib/python3.6/dist-packages (from pyspark) (0.10.7)\n",
      "Requirement already satisfied: seaborn in /usr/local/lib/python3.6/dist-packages (0.10.0)\n",
      "Requirement already satisfied: scipy>=1.0.1 in /usr/local/lib/python3.6/dist-packages (from seaborn) (1.4.1)\n",
      "Requirement already satisfied: pandas>=0.22.0 in /usr/local/lib/python3.6/dist-packages (from seaborn) (0.25.3)\n",
      "Requirement already satisfied: numpy>=1.13.3 in /usr/local/lib/python3.6/dist-packages (from seaborn) (1.17.5)\n",
      "Requirement already satisfied: matplotlib>=2.1.2 in /usr/local/lib/python3.6/dist-packages (from seaborn) (3.1.3)\n",
      "Requirement already satisfied: python-dateutil>=2.6.1 in /usr/local/lib/python3.6/dist-packages (from pandas>=0.22.0->seaborn) (2.6.1)\n",
      "Requirement already satisfied: pytz>=2017.2 in /usr/local/lib/python3.6/dist-packages (from pandas>=0.22.0->seaborn) (2018.9)\n",
      "Requirement already satisfied: cycler>=0.10 in /usr/local/lib/python3.6/dist-packages (from matplotlib>=2.1.2->seaborn) (0.10.0)\n",
      "Requirement already satisfied: pyparsing!=2.0.4,!=2.1.2,!=2.1.6,>=2.0.1 in /usr/local/lib/python3.6/dist-packages (from matplotlib>=2.1.2->seaborn) (2.4.6)\n",
      "Requirement already satisfied: kiwisolver>=1.0.1 in /usr/local/lib/python3.6/dist-packages (from matplotlib>=2.1.2->seaborn) (1.1.0)\n",
      "Requirement already satisfied: six>=1.5 in /usr/local/lib/python3.6/dist-packages (from python-dateutil>=2.6.1->pandas>=0.22.0->seaborn) (1.12.0)\n",
      "Requirement already satisfied: setuptools in /usr/local/lib/python3.6/dist-packages (from kiwisolver>=1.0.1->matplotlib>=2.1.2->seaborn) (45.1.0)\n",
      "Requirement already satisfied: plotly in /usr/local/lib/python3.6/dist-packages (4.4.1)\n",
      "Requirement already satisfied: retrying>=1.3.3 in /usr/local/lib/python3.6/dist-packages (from plotly) (1.3.3)\n",
      "Requirement already satisfied: six in /usr/local/lib/python3.6/dist-packages (from plotly) (1.12.0)\n",
      "Requirement already satisfied: imageio in /usr/local/lib/python3.6/dist-packages (2.4.1)\n",
      "Requirement already satisfied: pillow in /usr/local/lib/python3.6/dist-packages (from imageio) (6.2.2)\n",
      "Requirement already satisfied: numpy in /usr/local/lib/python3.6/dist-packages (from imageio) (1.17.5)\n",
      "Requirement already satisfied: folium in /usr/local/lib/python3.6/dist-packages (0.8.3)\n",
      "Requirement already satisfied: six in /usr/local/lib/python3.6/dist-packages (from folium) (1.12.0)\n",
      "Requirement already satisfied: numpy in /usr/local/lib/python3.6/dist-packages (from folium) (1.17.5)\n",
      "Requirement already satisfied: branca>=0.3.0 in /usr/local/lib/python3.6/dist-packages (from folium) (0.3.1)\n",
      "Requirement already satisfied: requests in /usr/local/lib/python3.6/dist-packages (from folium) (2.21.0)\n",
      "Requirement already satisfied: jinja2 in /usr/local/lib/python3.6/dist-packages (from folium) (2.11.1)\n",
      "Requirement already satisfied: chardet<3.1.0,>=3.0.2 in /usr/local/lib/python3.6/dist-packages (from requests->folium) (3.0.4)\n",
      "Requirement already satisfied: certifi>=2017.4.17 in /usr/local/lib/python3.6/dist-packages (from requests->folium) (2019.11.28)\n",
      "Requirement already satisfied: idna<2.9,>=2.5 in /usr/local/lib/python3.6/dist-packages (from requests->folium) (2.8)\n",
      "Requirement already satisfied: urllib3<1.25,>=1.21.1 in /usr/local/lib/python3.6/dist-packages (from requests->folium) (1.24.3)\n",
      "Requirement already satisfied: MarkupSafe>=0.23 in /usr/local/lib/python3.6/dist-packages (from jinja2->folium) (1.1.1)\n"
     ]
    }
   ],
   "source": [
    "!apt install libkrb5-dev\n",
    "!wget https://www-us.apache.org/dist/spark/spark-2.4.5/spark-2.4.5-bin-hadoop2.7.tgz\n",
    "!tar xf spark-2.4.5-bin-hadoop2.7.tgz\n",
    "!pip install findspark\n",
    "!pip install sparkmagic\n",
    "!pip install pyspark\n",
    "! pip install pyspark --user\n",
    "! pip install seaborn --user\n",
    "! pip install plotly --user\n",
    "! pip install imageio --user\n",
    "! pip install folium --user"
   ]
  },
  {
   "cell_type": "code",
   "execution_count": 63,
   "metadata": {
    "colab": {
     "base_uri": "https://localhost:8080/",
     "height": 485
    },
    "colab_type": "code",
    "id": "pNctzcXRkexY",
    "outputId": "a7311f1f-ba83-402a-ba58-e150b58c97f8"
   },
   "outputs": [
    {
     "name": "stdout",
     "output_type": "stream",
     "text": [
      "\u001b[33m\r",
      "0% [Working]\u001b[0m\r",
      "            \r",
      "Get:1 http://security.ubuntu.com/ubuntu bionic-security InRelease [88.7 kB]\n",
      "\u001b[33m\r",
      "0% [Connecting to archive.ubuntu.com] [1 InRelease 14.2 kB/88.7 kB 16%] [Connec\u001b[0m\u001b[33m\r",
      "0% [Connecting to archive.ubuntu.com (91.189.88.174)] [Connected to cloud.r-pro\u001b[0m\r",
      "                                                                               \r",
      "Ign:2 https://developer.download.nvidia.com/compute/cuda/repos/ubuntu1804/x86_64  InRelease\n",
      "\u001b[33m\r",
      "0% [Connecting to archive.ubuntu.com (91.189.88.174)] [Waiting for headers] [Wa\u001b[0m\u001b[33m\r",
      "0% [1 InRelease gpgv 88.7 kB] [Connecting to archive.ubuntu.com (91.189.88.174)\u001b[0m\r",
      "                                                                               \r",
      "Hit:3 https://cloud.r-project.org/bin/linux/ubuntu bionic-cran35/ InRelease\n",
      "\u001b[33m\r",
      "0% [1 InRelease gpgv 88.7 kB] [Connecting to archive.ubuntu.com (91.189.88.174)\u001b[0m\r",
      "                                                                               \r",
      "Hit:4 http://ppa.launchpad.net/graphics-drivers/ppa/ubuntu bionic InRelease\n",
      "\u001b[33m\r",
      "0% [1 InRelease gpgv 88.7 kB] [Waiting for headers] [Waiting for headers] [Conn\u001b[0m\r",
      "                                                                               \r",
      "Ign:5 https://developer.download.nvidia.com/compute/machine-learning/repos/ubuntu1804/x86_64  InRelease\n",
      "\u001b[33m\r",
      "0% [1 InRelease gpgv 88.7 kB] [Waiting for headers] [Connecting to ppa.launchpa\u001b[0m\r",
      "                                                                               \r",
      "Hit:6 https://developer.download.nvidia.com/compute/cuda/repos/ubuntu1804/x86_64  Release\n",
      "\u001b[33m\r",
      "0% [1 InRelease gpgv 88.7 kB] [Waiting for headers] [Connecting to ppa.launchpa\u001b[0m\r",
      "                                                                               \r",
      "Hit:7 https://developer.download.nvidia.com/compute/machine-learning/repos/ubuntu1804/x86_64  Release\n",
      "Hit:8 http://archive.ubuntu.com/ubuntu bionic InRelease\n",
      "Get:9 http://archive.ubuntu.com/ubuntu bionic-updates InRelease [88.7 kB]\n",
      "Hit:10 http://ppa.launchpad.net/marutter/c2d4u3.5/ubuntu bionic InRelease\n",
      "Get:11 http://archive.ubuntu.com/ubuntu bionic-backports InRelease [74.6 kB]\n",
      "Fetched 252 kB in 2s (124 kB/s)\n",
      "Reading package lists... Done\n",
      "Building dependency tree       \n",
      "Reading state information... Done\n",
      "106 packages can be upgraded. Run 'apt list --upgradable' to see them.\n",
      "Reading package lists... Done\n",
      "Building dependency tree       \n",
      "Reading state information... Done\n",
      "python-dev is already the newest version (2.7.15~rc1-1).\n",
      "gcc is already the newest version (4:7.4.0-1ubuntu2.3).\n",
      "libkrb5-dev is already the newest version (1.16-2ubuntu0.1).\n",
      "The following package was automatically installed and is no longer required:\n",
      "  libnvidia-common-430\n",
      "Use 'apt autoremove' to remove it.\n",
      "0 upgraded, 0 newly installed, 0 to remove and 106 not upgraded.\n"
     ]
    }
   ],
   "source": [
    "!apt update\n",
    "!apt install gcc python-dev libkrb5-dev"
   ]
  },
  {
   "cell_type": "code",
   "execution_count": 0,
   "metadata": {
    "colab": {},
    "colab_type": "code",
    "id": "PP28kxLekWG7"
   },
   "outputs": [],
   "source": [
    "from pyspark.sql import SparkSession\n",
    "from pyspark.sql.types import *\n",
    "import pyspark.sql.functions as F\n",
    "\n",
    "import os\n",
    "\n",
    "spark = SparkSession.builder.appName('Graphs-HW2').getOrCreate()\n"
   ]
  },
  {
   "cell_type": "code",
   "execution_count": 0,
   "metadata": {
    "colab": {},
    "colab_type": "code",
    "id": "7Gm6aXPq1Ulc"
   },
   "outputs": [],
   "source": [
    "%load_ext sparkmagic.magics"
   ]
  },
  {
   "cell_type": "code",
   "execution_count": 0,
   "metadata": {
    "colab": {},
    "colab_type": "code",
    "id": "NiGROEgu1gfN"
   },
   "outputs": [],
   "source": [
    "#graph section\n",
    "import networkx as nx\n",
    "# SQLite RDBMS\n",
    "import sqlite3\n",
    "# Parallel processing\n",
    "# import swifter\n",
    "\n",
    "# NoSQL DB\n",
    "from pymongo import MongoClient\n",
    "from pymongo.errors import DuplicateKeyError, OperationFailure\n",
    "\n",
    "import os\n",
    "os.environ['SPARK_HOME'] = '/content/spark-2.4.5-bin-hadoop2.7'\n",
    "os.environ[\"JAVA_HOME\"] = \"/usr/lib/jvm/java-8-openjdk-amd64\"\n",
    "import pyspark\n",
    "from pyspark.sql import SQLContext"
   ]
  },
  {
   "cell_type": "code",
   "execution_count": 0,
   "metadata": {
    "colab": {},
    "colab_type": "code",
    "id": "bF0xipwC1hme"
   },
   "outputs": [],
   "source": [
    "try:\n",
    "    if(spark == None):\n",
    "        spark = SparkSession.builder.appName('Initial').getOrCreate()\n",
    "        sqlContext=SQLContext(spark)\n",
    "except NameError:\n",
    "    spark = SparkSession.builder.appName('Initial').getOrCreate()\n",
    "    sqlContext=SQLContext(spark)\n"
   ]
  },
  {
   "cell_type": "markdown",
   "metadata": {
    "colab_type": "text",
    "id": "mw-YbXpG1owp"
   },
   "source": [
    "### Download data\n",
    "\n",
    "The following code retrieves the Yelp dataset files from Google Drive."
   ]
  },
  {
   "cell_type": "code",
   "execution_count": 0,
   "metadata": {
    "colab": {},
    "colab_type": "code",
    "id": "n0YzwPpE4I6h"
   },
   "outputs": [],
   "source": [
    "!rm -rf yelp_*"
   ]
  },
  {
   "cell_type": "code",
   "execution_count": 69,
   "metadata": {
    "colab": {
     "base_uri": "https://localhost:8080/",
     "height": 1000
    },
    "colab_type": "code",
    "id": "jeOCNBCM2pEy",
    "outputId": "597fb0e2-0491-454a-9254-9016a11f89da"
   },
   "outputs": [
    {
     "name": "stdout",
     "output_type": "stream",
     "text": [
      "--2020-02-23 22:11:41--  https://upenn-bigdataanalytics.s3.amazonaws.com/data/yelp_business.csv\n",
      "Resolving upenn-bigdataanalytics.s3.amazonaws.com (upenn-bigdataanalytics.s3.amazonaws.com)... 52.216.99.187\n",
      "Connecting to upenn-bigdataanalytics.s3.amazonaws.com (upenn-bigdataanalytics.s3.amazonaws.com)|52.216.99.187|:443... connected.\n",
      "HTTP request sent, awaiting response... 200 OK\n",
      "Length: 30364138 (29M) [text/csv]\n",
      "Saving to: ‘yelp_business.csv’\n",
      "\n",
      "\r",
      "yelp_business.csv     0%[                    ]       0  --.-KB/s               \r",
      "yelp_business.csv    72%[=============>      ]  20.90M   104MB/s               \r",
      "yelp_business.csv   100%[===================>]  28.96M   102MB/s    in 0.3s    \n",
      "\n",
      "2020-02-23 22:11:41 (102 MB/s) - ‘yelp_business.csv’ saved [30364138/30364138]\n",
      "\n",
      "--2020-02-23 22:11:42--  https://upenn-bigdataanalytics.s3.amazonaws.com/data/yelp_review2.csv\n",
      "Resolving upenn-bigdataanalytics.s3.amazonaws.com (upenn-bigdataanalytics.s3.amazonaws.com)... 52.216.84.147\n",
      "Connecting to upenn-bigdataanalytics.s3.amazonaws.com (upenn-bigdataanalytics.s3.amazonaws.com)|52.216.84.147|:443... connected.\n",
      "HTTP request sent, awaiting response... 200 OK\n",
      "Length: 3791120545 (3.5G) [text/csv]\n",
      "Saving to: ‘yelp_review2.csv’\n",
      "\n",
      "yelp_review2.csv    100%[===================>]   3.53G  46.7MB/s    in 43s     \n",
      "\n",
      "2020-02-23 22:12:25 (84.1 MB/s) - ‘yelp_review2.csv’ saved [3791120545/3791120545]\n",
      "\n",
      "--2020-02-23 22:12:29--  https://upenn-bigdataanalytics.s3.amazonaws.com/data/yelp_business_attributes.csv\n",
      "Resolving upenn-bigdataanalytics.s3.amazonaws.com (upenn-bigdataanalytics.s3.amazonaws.com)... 52.216.92.99\n",
      "Connecting to upenn-bigdataanalytics.s3.amazonaws.com (upenn-bigdataanalytics.s3.amazonaws.com)|52.216.92.99|:443... connected.\n",
      "HTTP request sent, awaiting response... 200 OK\n",
      "Length: 41377121 (39M) [text/csv]\n",
      "Saving to: ‘yelp_business_attributes.csv’\n",
      "\n",
      "yelp_business_attri 100%[===================>]  39.46M  98.6MB/s    in 0.4s    \n",
      "\n",
      "2020-02-23 22:12:29 (98.6 MB/s) - ‘yelp_business_attributes.csv’ saved [41377121/41377121]\n",
      "\n",
      "--2020-02-23 22:12:30--  https://upenn-bigdataanalytics.s3.amazonaws.com/data/yelp_checkin.csv\n",
      "Resolving upenn-bigdataanalytics.s3.amazonaws.com (upenn-bigdataanalytics.s3.amazonaws.com)... 52.216.92.99\n",
      "Connecting to upenn-bigdataanalytics.s3.amazonaws.com (upenn-bigdataanalytics.s3.amazonaws.com)|52.216.92.99|:443... connected.\n",
      "HTTP request sent, awaiting response... 200 OK\n",
      "Length: 135964892 (130M) [text/csv]\n",
      "Saving to: ‘yelp_checkin.csv’\n",
      "\n",
      "yelp_checkin.csv    100%[===================>] 129.67M  96.5MB/s    in 1.3s    \n",
      "\n",
      "2020-02-23 22:12:31 (96.5 MB/s) - ‘yelp_checkin.csv’ saved [135964892/135964892]\n",
      "\n",
      "--2020-02-23 22:12:32--  https://upenn-bigdataanalytics.s3.amazonaws.com/data/yelp_user.csv\n",
      "Resolving upenn-bigdataanalytics.s3.amazonaws.com (upenn-bigdataanalytics.s3.amazonaws.com)... 52.216.111.19\n",
      "Connecting to upenn-bigdataanalytics.s3.amazonaws.com (upenn-bigdataanalytics.s3.amazonaws.com)|52.216.111.19|:443... connected.\n",
      "HTTP request sent, awaiting response... 200 OK\n",
      "Length: 1363176944 (1.3G) [text/csv]\n",
      "Saving to: ‘yelp_user.csv’\n",
      "\n",
      "yelp_user.csv       100%[===================>]   1.27G  49.6MB/s    in 19s     \n",
      "\n",
      "2020-02-23 22:12:51 (68.8 MB/s) - ‘yelp_user.csv’ saved [1363176944/1363176944]\n",
      "\n"
     ]
    }
   ],
   "source": [
    "!wget https://upenn-bigdataanalytics.s3.amazonaws.com/data/yelp_business.csv\n",
    "!wget https://upenn-bigdataanalytics.s3.amazonaws.com/data/yelp_review2.csv\n",
    "!wget https://upenn-bigdataanalytics.s3.amazonaws.com/data/yelp_business_attributes.csv\n",
    "!wget https://upenn-bigdataanalytics.s3.amazonaws.com/data/yelp_checkin.csv\n",
    "!wget https://upenn-bigdataanalytics.s3.amazonaws.com/data/yelp_user.csv"
   ]
  },
  {
   "cell_type": "markdown",
   "metadata": {
    "colab_type": "text",
    "id": "srYXW3JwvIZi"
   },
   "source": [
    "## Part 4:"
   ]
  },
  {
   "cell_type": "markdown",
   "metadata": {
    "colab_type": "text",
    "id": "1tjhGYPK1vmm"
   },
   "source": [
    "### 4.1 Load Our Graph Datasets.\n",
    "\n",
    "For this assignment, we’ll be looking at graph data (reviews, reviewers, businesses) downloaded from Yelp.\n",
    "\n",
    "Let’s read our social graph data from Yelp, which forms a directed graph.  Here, the set of nodes is also not specified; the assumption is that the only nodes that matter are linked to other nodes, and thus their IDs will appear in the set of edges.  To load the file `input.txt` into a Spark DataFrame, you can use lines like the following.\n",
    "\n",
    "```\n",
    "# Read lines from the text file\n",
    "input_sdf = spark.read.load('input.txt', format=\"text\")\n",
    "```\n",
    "\n",
    "We’ll use the suffix `_sdf` to represent “Spark DataFrame,” much as we used `_df` to denote a Pandas DataFrame in Homework 1.  Load the various files from Yelp.\n",
    "\n",
    "Your datasets should be named `yelp_business_sdf`, `yelp_business_attributes_sdf`, `yelp_check_in_sdf`, `yelp_reviews_sdf`, and `yelp_users_sdf`.\n",
    "\n",
    "Submit the first 75 entries of the yelp_business_sdf to the autograder as a pandas dataframe by using the toPandas() function to convert it from a spark dataframe to a normal dataframe. Also,\n",
    " make sure to sort it by the \"name\" column in ascending order"
   ]
  },
  {
   "cell_type": "code",
   "execution_count": 0,
   "metadata": {
    "colab": {},
    "colab_type": "code",
    "id": "7mtQl7Bi1rHe"
   },
   "outputs": [],
   "source": [
    "#TODO\n",
    "yelp_business_sdf=spark.read.format('csv').option('header','true').load('yelp_business.csv')\n",
    "yelp_business=yelp_business_sdf.toPandas().sort_values(by='name',ascending=True)"
   ]
  },
  {
   "cell_type": "code",
   "execution_count": 0,
   "metadata": {
    "colab": {},
    "colab_type": "code",
    "id": "ADFIa6jx16Sm"
   },
   "outputs": [],
   "source": [
    "#TODO\n",
    "yelp_business_sdf.createOrReplaceTempView('yelp_business')"
   ]
  },
  {
   "cell_type": "markdown",
   "metadata": {
    "colab_type": "text",
    "id": "DBjwu_4ZbgdG"
   },
   "source": [
    "### 4.2 Simple Analytics on the Data\n",
    "\n",
    "In this section, we shall be executing Spark operations on the data given. Beyond simply executing the queries, you may try using `.explain()` method to see more about the query execution. Also, please read the data description prior to attempting the following questions to understand the data.\n",
    "\n",
    "\n",
    "Compute, stored in `best_average_sdf`, the list of names of businesses based on their average review score (review stars), in decreasing order, sorted lexicographically (in increasing order) by name if they have the same score.  Output the number of reviews also.  Call the columns `name`, `avg_rating`, and `count`.\n",
    "\n",
    "Convert this to pandas and submit the first 75 rows "
   ]
  },
  {
   "cell_type": "code",
   "execution_count": 0,
   "metadata": {
    "colab": {},
    "colab_type": "code",
    "id": "g_HT_LG1bf1t"
   },
   "outputs": [],
   "source": [
    "#TODO\n",
    "best_average_sdf=spark.sql('''SELECT name, stars AS avg_rating, review_count AS count \n",
    "                      FROM yelp_business ORDER BY avg_rating DESC, name ASC''')"
   ]
  },
  {
   "cell_type": "code",
   "execution_count": 0,
   "metadata": {
    "colab": {},
    "colab_type": "code",
    "id": "pK8xqJSPYWn8"
   },
   "outputs": [],
   "source": [
    "best_average_sdf_75=best_average_sdf.toPandas()[:75]"
   ]
  },
  {
   "cell_type": "markdown",
   "metadata": {
    "colab_type": "text",
    "id": "2L8pEamDbeUC"
   },
   "source": [
    "#### 4.2.1 Users who are more negative than average\n",
    "\n",
    "Find the users whose average review is below the *average of the per-user* average reviews.  Think about how to factor that into steps!\n",
    "\n",
    "* Compute the (floating-point) variable `overall_avg` as the average of the users' average reviews. (You might compute this in a Spark DataFrame first).\n",
    "* Then output `negative_users_sdf` as the users whose average rating is below that.  This Spark dataframe should have `name` and `avg_rating` and should be sorted first (from lowest to highest) by average rating, then lexicographically (in ascending order) by name.  You should drop cases where the name is null.\n",
    "\n",
    "Submit just the overall_avg number that you get to the autograder as a float\n"
   ]
  },
  {
   "cell_type": "code",
   "execution_count": 0,
   "metadata": {
    "colab": {},
    "colab_type": "code",
    "id": "8X8U1EQebds6"
   },
   "outputs": [],
   "source": [
    "#TODO\n",
    "yelp_users_sdf=spark.read.format('csv').option('header','true').load('yelp_user.csv')\n",
    "yelp_users_sdf.createOrReplaceTempView('yelp_users')"
   ]
  },
  {
   "cell_type": "code",
   "execution_count": 78,
   "metadata": {
    "colab": {
     "base_uri": "https://localhost:8080/",
     "height": 125
    },
    "colab_type": "code",
    "id": "FFh2FlQad04s",
    "outputId": "a88cd01f-e81b-4042-c5df-9be3693d5e6c"
   },
   "outputs": [
    {
     "name": "stdout",
     "output_type": "stream",
     "text": [
      "+----------------------------------+\n",
      "|avg(CAST(average_stars AS DOUBLE))|\n",
      "+----------------------------------+\n",
      "|                3.7108406832064325|\n",
      "+----------------------------------+\n",
      "\n"
     ]
    }
   ],
   "source": [
    "overall_avg_sdf=spark.sql('''SELECT AVG(average_stars) FROM yelp_users''')\n",
    "overall_avg_sdf.show()"
   ]
  },
  {
   "cell_type": "code",
   "execution_count": 0,
   "metadata": {
    "colab": {},
    "colab_type": "code",
    "id": "c__aBNTBe56a"
   },
   "outputs": [],
   "source": [
    "overall_avg=3.7108406832064325\n",
    "\n",
    "negative_users_sdf=spark.sql('''SELECT name, average_stars AS avg_rating FROM yelp_users\n",
    "                    WHERE average_stars<(SELECT AVG(average_stars) FROM yelp_users) \n",
    "                        AND name IS NOT NULL ORDER BY avg_rating ASC, name ASC''')"
   ]
  },
  {
   "cell_type": "markdown",
   "metadata": {
    "colab_type": "text",
    "id": "v6n8ooy9iIqH"
   },
   "source": [
    "### 4.2.2 Cities by number of businesses\n",
    "\n",
    "Find the top 10 cities by number of (Yelp-listed) businesses.\n",
    "\n",
    "This time, use the `take()` function to create a *list* of the top 10 cities (as Rows).  Call this list `top10_cities` and make sure it includes city `name` and `num_restaurants`.\n",
    "\n",
    "We want to answer as a list of lists where each element is the combination of the city name + num_restaurants:\n",
    "\n",
    "[[\"Philadelphia\", 12345], [\"Los Angeles\", 543]]"
   ]
  },
  {
   "cell_type": "code",
   "execution_count": 0,
   "metadata": {
    "colab": {},
    "colab_type": "code",
    "id": "y7lPtnowiH5u"
   },
   "outputs": [],
   "source": [
    "#TODO\n",
    "cities_count=yelp_business_sdf.groupBy('city').agg({'city':'count'}).withColumnRenamed('count(city)','num_restaurants').orderBy(['num_restaurants'],ascending=[0])\n",
    "top10_cities=cities_count.take(10)"
   ]
  },
  {
   "cell_type": "code",
   "execution_count": 0,
   "metadata": {
    "colab": {},
    "colab_type": "code",
    "id": "mfwhG24KrmWV"
   },
   "outputs": [],
   "source": [
    "final=cities_count.toPandas()[:10].values.tolist()"
   ]
  },
  {
   "cell_type": "code",
   "execution_count": 0,
   "metadata": {
    "colab": {},
    "colab_type": "code",
    "id": "HZDBfClWvn86"
   },
   "outputs": [],
   "source": [
    "yelp_reviews_sdf=spark.read.format('csv').option('header','true').load('yelp_review2.csv')\n",
    "yelp_reviews_sdf.createOrReplaceTempView('yelp_reviews')"
   ]
  },
  {
   "cell_type": "code",
   "execution_count": 0,
   "metadata": {
    "colab": {},
    "colab_type": "code",
    "id": "9UNYfM8kwUnC"
   },
   "outputs": [],
   "source": [
    "review_graph_sdf = spark.sql('''SELECT user_id AS from_node, business_id AS to_node, stars AS score FROM yelp_reviews\n",
    "                        WHERE business_id IS NOT NULL\n",
    "                        AND user_id IS NOT NULL''')\n",
    "\n",
    "review_graph_sdf.createOrReplaceTempView('review_graph')"
   ]
  },
  {
   "cell_type": "markdown",
   "metadata": {
    "colab_type": "text",
    "id": "zA84jsFau2Ls"
   },
   "source": [
    "\n",
    "## Part 5. “Traversing” a Graph\n",
    "\n",
    "For our next tasks, we will be “walking” the graph and making connections.\n",
    "\n"
   ]
  },
  {
   "cell_type": "markdown",
   "metadata": {
    "colab_type": "text",
    "id": "er66Vdjjia_W"
   },
   "source": [
    "Create a function `spark_bfs(G, origins, max_depth)` that takes a Spark DataFrame with a graph G (following the schema for `review_graph_sdf` described above, but to be treated as an **undirected graph**), a Python list-of-dictionaries `origins` of the form \n",
    "\n",
    "```\n",
    "[{‘node’: nid1}, \n",
    " {‘node’: nid2}, \n",
    " …]\n",
    "```\n",
    "\n",
    "and a nonnegative integer “exploration depth” `max_depth` (to only run BFS on a tractable portion of the graph).  The `max_depth` will be the maximum number of edge traversals (e.g., the origin is at `max_depth=0`, one hop from the origin is `max_depth=1`, etc.  The function should return a DataFrame containing pairs of the form (node, distance), where the distance is depth at which $n$ was *first* encountered (i.e., the shortest-path distance from the origin nodes).  Note that the origin nodes should also be returned in this Spark DataFrame (with depth 0)!  \n",
    "\n",
    "You can create a new Spark DataFrame with an integer `node` column from the above list of maps `origins`, as follows. This will give you a DataFrame of the nodes to start the BFS at\n",
    "\n",
    "```\n",
    "schema = StructType([\n",
    "            StructField(\"node\", StringType(), True)\n",
    "        ])\n",
    "\n",
    "    my_sdf = spark.createDataFrame(my_list_of_maps, schema)\n",
    "```\n",
    "\n",
    "In this algorithm, be careful in each iteration to keep only the nodes with their shortest distances (you may need to do aggregation or item removal).  You should accumulate all nodes at distances 0, 1, ..., `max_depth`."
   ]
  },
  {
   "cell_type": "code",
   "execution_count": 0,
   "metadata": {
    "colab": {},
    "colab_type": "code",
    "id": "yynG11RJoyrr"
   },
   "outputs": [],
   "source": [
    "from pyspark.sql.functions import lit"
   ]
  },
  {
   "cell_type": "code",
   "execution_count": 0,
   "metadata": {
    "colab": {},
    "colab_type": "code",
    "id": "wXkRvJXKiVum"
   },
   "outputs": [],
   "source": [
    "# TODO: iterative search over undirected graph\n",
    "def spark_bfs(G,origins,max_depth):\n",
    "  i=0\n",
    "  new_nodes=spark.createDataFrame(origins)\n",
    "  reachable_nodes=new_nodes.withColumn('distance',lit(i))\n",
    "  G=G.select('from_node','to_node')\n",
    "  G2=G.withColumnRenamed('to_node','from_node_').withColumnRenamed('from_node','to_node').withColumnRenamed('from_node_','from_node').select('from_node','to_node')\n",
    "  total_G=G.union(G2)\n",
    "\n",
    "  while i<max_depth:\n",
    "    i+=1\n",
    "    new_nodes=total_G.join(new_nodes,total_G.from_node==new_nodes.node).select(total_G.to_node).distinct().withColumn('distance',lit(i))\n",
    "    reachable_nodes=reachable_nodes.union(new_nodes)\n",
    "    new_nodes=new_nodes.withColumnRenamed('to_node','node')\n",
    "\n",
    "  result_df=reachable_nodes.toPandas().drop_duplicates(subset='node',keep='first')\n",
    "  \n",
    "  return result_df"
   ]
  },
  {
   "cell_type": "markdown",
   "metadata": {
    "colab_type": "text",
    "id": "WYpE6Pp1njJu"
   },
   "source": [
    "This is the starting origin node ID for your BFS and the associated call"
   ]
  },
  {
   "cell_type": "code",
   "execution_count": 88,
   "metadata": {
    "colab": {
     "base_uri": "https://localhost:8080/",
     "height": 73
    },
    "colab_type": "code",
    "id": "rVUwgLmhiiAY",
    "outputId": "43818d32-d0b6-4159-f5ca-82d0ae1e0b58"
   },
   "outputs": [
    {
     "name": "stderr",
     "output_type": "stream",
     "text": [
      "/usr/local/lib/python3.6/dist-packages/pyspark/sql/session.py:346: UserWarning: inferring schema from dict is deprecated,please use pyspark.sql.Row instead\n",
      "  warnings.warn(\"inferring schema from dict is deprecated,\"\n"
     ]
    }
   ],
   "source": [
    "orig = [{'node': 'bv2nCi5Qv5vroFiqKGopiw'}]\n",
    "#grab the count\n",
    "count = spark_bfs(review_graph_sdf, orig, 3)"
   ]
  }
 ],
 "metadata": {
  "colab": {
   "collapsed_sections": [],
   "name": "“STUDENT_FINAL”的副本",
   "provenance": [],
   "toc_visible": true
  },
  "kernelspec": {
   "display_name": "Python 3",
   "language": "python",
   "name": "python3"
  },
  "language_info": {
   "codemirror_mode": {
    "name": "ipython",
    "version": 3
   },
   "file_extension": ".py",
   "mimetype": "text/x-python",
   "name": "python",
   "nbconvert_exporter": "python",
   "pygments_lexer": "ipython3",
   "version": "3.6.9"
  }
 },
 "nbformat": 4,
 "nbformat_minor": 1
}
